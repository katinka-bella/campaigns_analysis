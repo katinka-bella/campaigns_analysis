{
 "cells": [
  {
   "cell_type": "markdown",
   "id": "0f5a8b23",
   "metadata": {},
   "source": [
    "# DATA VISUALISATION AND RESULTS "
   ]
  },
  {
   "cell_type": "markdown",
   "id": "6ab71278",
   "metadata": {},
   "source": [
    "## Summury"
   ]
  },
  {
   "cell_type": "markdown",
   "id": "010fa462",
   "metadata": {},
   "source": [
    "- \n",
    "- \n",
    ">**Recomendation:** "
   ]
  }
 ],
 "metadata": {
  "kernelspec": {
   "display_name": "Python 3 (ipykernel)",
   "language": "python",
   "name": "python3"
  },
  "language_info": {
   "codemirror_mode": {
    "name": "ipython",
    "version": 3
   },
   "file_extension": ".py",
   "mimetype": "text/x-python",
   "name": "python",
   "nbconvert_exporter": "python",
   "pygments_lexer": "ipython3",
   "version": "3.11.5"
  }
 },
 "nbformat": 4,
 "nbformat_minor": 5
}
