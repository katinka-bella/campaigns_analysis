{
 "cells": [
  {
   "cell_type": "markdown",
   "id": "23c9f965",
   "metadata": {
    "slideshow": {
     "slide_type": "-"
    }
   },
   "source": [
    "## IMPORT PYTHON MODULES"
   ]
  },
  {
   "cell_type": "code",
   "execution_count": null,
   "id": "56deeb89",
   "metadata": {
    "slideshow": {
     "slide_type": "slide"
    }
   },
   "outputs": [],
   "source": [
    "#import libraries\n",
    "import pandas as pd\n",
    "import numpy as np\n",
    "import seaborn as sns\n",
    "import warnings\n",
    "import matplotlib.pyplot as plt"
   ]
  },
  {
   "cell_type": "markdown",
   "id": "34fa827c",
   "metadata": {
    "slideshow": {
     "slide_type": "-"
    }
   },
   "source": [
    "## IMPORT AND VALIDATE DATA "
   ]
  },
  {
   "cell_type": "code",
   "execution_count": null,
   "id": "a3ceee51",
   "metadata": {
    "scrolled": true
   },
   "outputs": [],
   "source": [
    "warnings.filterwarnings(\"ignore\")\n",
    "\n",
    "#import data\n",
    "data = r'final_dataset.csv'\n",
    "cp = pd.read_csv(data)\n",
    "\n",
    "cp.head()"
   ]
  },
  {
   "cell_type": "code",
   "execution_count": null,
   "id": "5ee6d50c",
   "metadata": {},
   "outputs": [],
   "source": [
    "cp.info()"
   ]
  },
  {
   "cell_type": "markdown",
   "id": "0f5a8b23",
   "metadata": {},
   "source": [
    "# DATA ANALYSIS "
   ]
  },
  {
   "cell_type": "code",
   "execution_count": null,
   "id": "d11247c2",
   "metadata": {},
   "outputs": [],
   "source": []
  }
 ],
 "metadata": {
  "kernelspec": {
   "display_name": "Python 3 (ipykernel)",
   "language": "python",
   "name": "python3"
  },
  "language_info": {
   "codemirror_mode": {
    "name": "ipython",
    "version": 3
   },
   "file_extension": ".py",
   "mimetype": "text/x-python",
   "name": "python",
   "nbconvert_exporter": "python",
   "pygments_lexer": "ipython3",
   "version": "3.11.5"
  }
 },
 "nbformat": 4,
 "nbformat_minor": 5
}
