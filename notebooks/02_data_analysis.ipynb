{
 "cells": [
  {
   "cell_type": "markdown",
   "id": "23c9f965",
   "metadata": {
    "slideshow": {
     "slide_type": "-"
    }
   },
   "source": [
    "## IMPORT PYTHON MODULES"
   ]
  },
  {
   "cell_type": "code",
   "execution_count": 1,
   "id": "56deeb89",
   "metadata": {
    "slideshow": {
     "slide_type": "slide"
    }
   },
   "outputs": [],
   "source": [
    "#import libraries\n",
    "import pandas as pd\n",
    "import numpy as np\n",
    "import seaborn as sns\n",
    "import warnings\n",
    "import matplotlib.pyplot as plt"
   ]
  },
  {
   "cell_type": "markdown",
   "id": "34fa827c",
   "metadata": {
    "slideshow": {
     "slide_type": "-"
    }
   },
   "source": [
    "## IMPORT AND VALIDATE DATA "
   ]
  },
  {
   "cell_type": "code",
   "execution_count": 3,
   "id": "a3ceee51",
   "metadata": {
    "scrolled": true
   },
   "outputs": [
    {
     "data": {
      "text/html": [
       "<div>\n",
       "<style scoped>\n",
       "    .dataframe tbody tr th:only-of-type {\n",
       "        vertical-align: middle;\n",
       "    }\n",
       "\n",
       "    .dataframe tbody tr th {\n",
       "        vertical-align: top;\n",
       "    }\n",
       "\n",
       "    .dataframe thead th {\n",
       "        text-align: right;\n",
       "    }\n",
       "</style>\n",
       "<table border=\"1\" class=\"dataframe\">\n",
       "  <thead>\n",
       "    <tr style=\"text-align: right;\">\n",
       "      <th></th>\n",
       "      <th>Unnamed: 0</th>\n",
       "      <th>user_pseudo_id</th>\n",
       "      <th>medium_path</th>\n",
       "      <th>conversion_flag</th>\n",
       "      <th>first_touchpoint</th>\n",
       "      <th>conversion_timestamp</th>\n",
       "      <th>step1</th>\n",
       "      <th>step2</th>\n",
       "      <th>step3</th>\n",
       "      <th>step4</th>\n",
       "      <th>step5</th>\n",
       "      <th>step6</th>\n",
       "      <th>step7</th>\n",
       "      <th>step8</th>\n",
       "      <th>step9</th>\n",
       "      <th>step10</th>\n",
       "      <th>step11</th>\n",
       "      <th>step12</th>\n",
       "      <th>step13</th>\n",
       "    </tr>\n",
       "  </thead>\n",
       "  <tbody>\n",
       "    <tr>\n",
       "      <th>0</th>\n",
       "      <td>4</td>\n",
       "      <td>nP78ikNKi2iu1IJUO+LWIPcoByh3ZWFvlIzIl174i1jCuK...</td>\n",
       "      <td>paidsocial</td>\n",
       "      <td>0</td>\n",
       "      <td>2022-12-28 00:00:52.722434+00:00</td>\n",
       "      <td>NaN</td>\n",
       "      <td>paidsocial</td>\n",
       "      <td>NaN</td>\n",
       "      <td>NaN</td>\n",
       "      <td>NaN</td>\n",
       "      <td>NaN</td>\n",
       "      <td>NaN</td>\n",
       "      <td>NaN</td>\n",
       "      <td>NaN</td>\n",
       "      <td>NaN</td>\n",
       "      <td>NaN</td>\n",
       "      <td>NaN</td>\n",
       "      <td>NaN</td>\n",
       "      <td>NaN</td>\n",
       "    </tr>\n",
       "    <tr>\n",
       "      <th>1</th>\n",
       "      <td>5</td>\n",
       "      <td>Kkx/yH2k8X5rWdx+wG7DPuxpEyCsvSNwDqr4BzWGpxQw38...</td>\n",
       "      <td>cpc</td>\n",
       "      <td>0</td>\n",
       "      <td>2022-12-28 00:01:01.875587+00:00</td>\n",
       "      <td>NaN</td>\n",
       "      <td>cpc</td>\n",
       "      <td>NaN</td>\n",
       "      <td>NaN</td>\n",
       "      <td>NaN</td>\n",
       "      <td>NaN</td>\n",
       "      <td>NaN</td>\n",
       "      <td>NaN</td>\n",
       "      <td>NaN</td>\n",
       "      <td>NaN</td>\n",
       "      <td>NaN</td>\n",
       "      <td>NaN</td>\n",
       "      <td>NaN</td>\n",
       "      <td>NaN</td>\n",
       "    </tr>\n",
       "    <tr>\n",
       "      <th>2</th>\n",
       "      <td>6</td>\n",
       "      <td>brAeKj/gaKj8RkzQBIJfe/5XDKShTLwOcTh6yXQink4Kuo...</td>\n",
       "      <td>organic</td>\n",
       "      <td>0</td>\n",
       "      <td>2022-12-28 00:01:15.005975+00:00</td>\n",
       "      <td>NaN</td>\n",
       "      <td>organic</td>\n",
       "      <td>NaN</td>\n",
       "      <td>NaN</td>\n",
       "      <td>NaN</td>\n",
       "      <td>NaN</td>\n",
       "      <td>NaN</td>\n",
       "      <td>NaN</td>\n",
       "      <td>NaN</td>\n",
       "      <td>NaN</td>\n",
       "      <td>NaN</td>\n",
       "      <td>NaN</td>\n",
       "      <td>NaN</td>\n",
       "      <td>NaN</td>\n",
       "    </tr>\n",
       "    <tr>\n",
       "      <th>3</th>\n",
       "      <td>9</td>\n",
       "      <td>4i0jYrhlk2CNR94hRIat8WPFLkU8dRdcPgKA1oDlwsWbUe...</td>\n",
       "      <td>cpc</td>\n",
       "      <td>0</td>\n",
       "      <td>2022-12-28 00:02:08.431349+00:00</td>\n",
       "      <td>NaN</td>\n",
       "      <td>cpc</td>\n",
       "      <td>NaN</td>\n",
       "      <td>NaN</td>\n",
       "      <td>NaN</td>\n",
       "      <td>NaN</td>\n",
       "      <td>NaN</td>\n",
       "      <td>NaN</td>\n",
       "      <td>NaN</td>\n",
       "      <td>NaN</td>\n",
       "      <td>NaN</td>\n",
       "      <td>NaN</td>\n",
       "      <td>NaN</td>\n",
       "      <td>NaN</td>\n",
       "    </tr>\n",
       "    <tr>\n",
       "      <th>4</th>\n",
       "      <td>10</td>\n",
       "      <td>JDClr9MBvuQkNi/PeCvCFScJ0NL/3qIlq0ZWVYzoGSbsNC...</td>\n",
       "      <td>paidsocial</td>\n",
       "      <td>0</td>\n",
       "      <td>2022-12-28 00:02:24.791342+00:00</td>\n",
       "      <td>NaN</td>\n",
       "      <td>paidsocial</td>\n",
       "      <td>NaN</td>\n",
       "      <td>NaN</td>\n",
       "      <td>NaN</td>\n",
       "      <td>NaN</td>\n",
       "      <td>NaN</td>\n",
       "      <td>NaN</td>\n",
       "      <td>NaN</td>\n",
       "      <td>NaN</td>\n",
       "      <td>NaN</td>\n",
       "      <td>NaN</td>\n",
       "      <td>NaN</td>\n",
       "      <td>NaN</td>\n",
       "    </tr>\n",
       "  </tbody>\n",
       "</table>\n",
       "</div>"
      ],
      "text/plain": [
       "   Unnamed: 0                                     user_pseudo_id medium_path  \\\n",
       "0           4  nP78ikNKi2iu1IJUO+LWIPcoByh3ZWFvlIzIl174i1jCuK...  paidsocial   \n",
       "1           5  Kkx/yH2k8X5rWdx+wG7DPuxpEyCsvSNwDqr4BzWGpxQw38...         cpc   \n",
       "2           6  brAeKj/gaKj8RkzQBIJfe/5XDKShTLwOcTh6yXQink4Kuo...     organic   \n",
       "3           9  4i0jYrhlk2CNR94hRIat8WPFLkU8dRdcPgKA1oDlwsWbUe...         cpc   \n",
       "4          10  JDClr9MBvuQkNi/PeCvCFScJ0NL/3qIlq0ZWVYzoGSbsNC...  paidsocial   \n",
       "\n",
       "   conversion_flag                  first_touchpoint conversion_timestamp  \\\n",
       "0                0  2022-12-28 00:00:52.722434+00:00                  NaN   \n",
       "1                0  2022-12-28 00:01:01.875587+00:00                  NaN   \n",
       "2                0  2022-12-28 00:01:15.005975+00:00                  NaN   \n",
       "3                0  2022-12-28 00:02:08.431349+00:00                  NaN   \n",
       "4                0  2022-12-28 00:02:24.791342+00:00                  NaN   \n",
       "\n",
       "        step1 step2 step3 step4 step5 step6 step7 step8 step9 step10 step11  \\\n",
       "0  paidsocial   NaN   NaN   NaN   NaN   NaN   NaN   NaN   NaN    NaN    NaN   \n",
       "1         cpc   NaN   NaN   NaN   NaN   NaN   NaN   NaN   NaN    NaN    NaN   \n",
       "2     organic   NaN   NaN   NaN   NaN   NaN   NaN   NaN   NaN    NaN    NaN   \n",
       "3         cpc   NaN   NaN   NaN   NaN   NaN   NaN   NaN   NaN    NaN    NaN   \n",
       "4  paidsocial   NaN   NaN   NaN   NaN   NaN   NaN   NaN   NaN    NaN    NaN   \n",
       "\n",
       "  step12 step13  \n",
       "0    NaN    NaN  \n",
       "1    NaN    NaN  \n",
       "2    NaN    NaN  \n",
       "3    NaN    NaN  \n",
       "4    NaN    NaN  "
      ]
     },
     "execution_count": 3,
     "metadata": {},
     "output_type": "execute_result"
    }
   ],
   "source": [
    "warnings.filterwarnings(\"ignore\")\n",
    "\n",
    "#import data\n",
    "data = r'final_dataset.csv'\n",
    "cp = pd.read_csv(data)\n",
    "\n",
    "cp.head()"
   ]
  },
  {
   "cell_type": "code",
   "execution_count": 4,
   "id": "5ee6d50c",
   "metadata": {},
   "outputs": [
    {
     "name": "stdout",
     "output_type": "stream",
     "text": [
      "<class 'pandas.core.frame.DataFrame'>\n",
      "RangeIndex: 71009 entries, 0 to 71008\n",
      "Data columns (total 19 columns):\n",
      " #   Column                Non-Null Count  Dtype \n",
      "---  ------                --------------  ----- \n",
      " 0   Unnamed: 0            71009 non-null  int64 \n",
      " 1   user_pseudo_id        71009 non-null  object\n",
      " 2   medium_path           71009 non-null  object\n",
      " 3   conversion_flag       71009 non-null  int64 \n",
      " 4   first_touchpoint      71009 non-null  object\n",
      " 5   conversion_timestamp  3489 non-null   object\n",
      " 6   step1                 71009 non-null  object\n",
      " 7   step2                 13645 non-null  object\n",
      " 8   step3                 6428 non-null   object\n",
      " 9   step4                 3758 non-null   object\n",
      " 10  step5                 2454 non-null   object\n",
      " 11  step6                 1712 non-null   object\n",
      " 12  step7                 1305 non-null   object\n",
      " 13  step8                 1016 non-null   object\n",
      " 14  step9                 812 non-null    object\n",
      " 15  step10                677 non-null    object\n",
      " 16  step11                565 non-null    object\n",
      " 17  step12                488 non-null    object\n",
      " 18  step13                426 non-null    object\n",
      "dtypes: int64(2), object(17)\n",
      "memory usage: 10.3+ MB\n"
     ]
    }
   ],
   "source": [
    "cp.info()"
   ]
  },
  {
   "cell_type": "markdown",
   "id": "0f5a8b23",
   "metadata": {},
   "source": [
    "# DATA ANALYSIS "
   ]
  },
  {
   "cell_type": "code",
   "execution_count": null,
   "id": "d11247c2",
   "metadata": {},
   "outputs": [],
   "source": []
  }
 ],
 "metadata": {
  "kernelspec": {
   "display_name": "Python 3 (ipykernel)",
   "language": "python",
   "name": "python3"
  },
  "language_info": {
   "codemirror_mode": {
    "name": "ipython",
    "version": 3
   },
   "file_extension": ".py",
   "mimetype": "text/x-python",
   "name": "python",
   "nbconvert_exporter": "python",
   "pygments_lexer": "ipython3",
   "version": "3.11.3"
  }
 },
 "nbformat": 4,
 "nbformat_minor": 5
}
